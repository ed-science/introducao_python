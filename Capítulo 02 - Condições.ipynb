{
 "cells": [
  {
   "cell_type": "markdown",
   "metadata": {},
   "source": [
    "# Condições"
   ]
  },
  {
   "cell_type": "markdown",
   "metadata": {},
   "source": [
    "## if"
   ]
  },
  {
   "cell_type": "markdown",
   "metadata": {},
   "source": [
    "As condições servem para selecionar quando uma parte do programa deve ser ativada e quando deve ser simplesmente ignorada."
   ]
  },
  {
   "cell_type": "code",
   "execution_count": 3,
   "metadata": {},
   "outputs": [
    {
     "name": "stdout",
     "output_type": "stream",
     "text": [
      "Entre com um número: 10\n",
      "Entre com um segundo número: 2\n",
      "O primeiro valor é maior.\n"
     ]
    }
   ],
   "source": [
    "# Exemplo de uso de if\n",
    "a = int(input(\"Entre com um número: \"))\n",
    "b = int(input(\"Entre com um segundo número: \"))\n",
    "if a > b:\n",
    "    print(\"O primeiro valor é maior.\")\n",
    "if b > a:\n",
    "    print(\"O segundo valor é maior.\")"
   ]
  },
  {
   "cell_type": "code",
   "execution_count": 5,
   "metadata": {},
   "outputs": [
    {
     "name": "stdout",
     "output_type": "stream",
     "text": [
      "Entre com um número: 50\n",
      "Entre com um segundo número: 2\n",
      "O primeiro valor é maior.\n"
     ]
    }
   ],
   "source": [
    "# Exemplo de uso de if com else\n",
    "a = int(input(\"Entre com um número: \"))\n",
    "b = int(input(\"Entre com um segundo número: \"))\n",
    "if a > b:\n",
    "    print(\"O primeiro valor é maior.\")\n",
    "else:\n",
    "    print(\"O segundo valor é maior.\")"
   ]
  },
  {
   "cell_type": "code",
   "execution_count": 6,
   "metadata": {},
   "outputs": [
    {
     "name": "stdout",
     "output_type": "stream",
     "text": [
      "Entre com um valor inteiro: 10\n",
      "par\n"
     ]
    }
   ],
   "source": [
    "# Exemplo de par ou ímpar\n",
    "numero = int(input(\"Entre com um valor inteiro: \"))\n",
    "\n",
    "if numero % 2 == 0:\n",
    "    print(\"par\")\n",
    "else:\n",
    "    print(\"ímpar.\")"
   ]
  },
  {
   "cell_type": "code",
   "execution_count": 7,
   "metadata": {},
   "outputs": [
    {
     "name": "stdout",
     "output_type": "stream",
     "text": [
      "Entre com o valor de a: 10\n",
      "Entre com o valor de b: 2\n",
      "Entre com o valor de c: 3\n",
      "esta equação não possui raízes reais\n"
     ]
    }
   ],
   "source": [
    "\"\"\"\n",
    "Solução das raízes de uma equação de segundo grau\n",
    "y = ax**2 + bx + c\n",
    "Entrando com os valores de a, b e c o programa calcula as raízes \n",
    "\"\"\"\n",
    "#Entrada de dados\n",
    "a = float(input(\"Entre com o valor de a: \"))\n",
    "b = float(input(\"Entre com o valor de b: \"))\n",
    "c = float(input(\"Entre com o valor de c: \"))\n",
    "# Cálculo de Delta\n",
    "Delta = b**2 - 4*a*c\n",
    "\n",
    "if Delta < 0:\n",
    "    print(\"esta equação não possui raízes reais\")\n",
    "elif Delta == 0:\n",
    "    raiz = -b/(2*a)\n",
    "    print(\"a raíz desta equação é\", raiz)\n",
    "else:\n",
    "    raiz_1 = (-b - (Delta**0.5)) / (2 * a)\n",
    "    raiz_2 = (-b + (Delta**0.5)) / (2 * a)\n",
    "    if raiz_1 < raiz_2:\n",
    "        print(\"as raízes da equação são\", raiz_1,\"e\", raiz_2)\n",
    "    else:\n",
    "        print(\"as raízes da equação são\", raiz_2,\"e\", raiz_1)"
   ]
  },
  {
   "cell_type": "markdown",
   "metadata": {},
   "source": [
    "### Estruturas aninhadas"
   ]
  },
  {
   "cell_type": "code",
   "execution_count": 10,
   "metadata": {},
   "outputs": [
    {
     "name": "stdout",
     "output_type": "stream",
     "text": [
      "Quantos minutos você utilizou o telefone este mês: 10\n",
      "Você vai pagar este mês: R$  2.00\n"
     ]
    }
   ],
   "source": [
    "# Conta de telefone com três faixas de preço\n",
    "min = int(input(\"Quantos minutos você utilizou o telefone este mês: \"))\n",
    "if min < 200:\n",
    "    preco = 0.20\n",
    "else:\n",
    "    if min < 400:\n",
    "        preco = 0.18\n",
    "    else:\n",
    "        preco = 0.15\n",
    "\n",
    "print(f\"Você vai pagar este mês: R${min * preco:6.2f}\") # outra maneira de imprimir o resultado\n"
   ]
  },
  {
   "cell_type": "code",
   "execution_count": 11,
   "metadata": {},
   "outputs": [
    {
     "name": "stdout",
     "output_type": "stream",
     "text": [
      "Entre com um número: -1\n",
      "Número negativo\n"
     ]
    }
   ],
   "source": [
    "# Exemplo de número zero, positivo ou negativo\n",
    "num = float(input(\"Entre com um número: \"))\n",
    "if num >= 0:\n",
    "    if num == 0:\n",
    "        print(\"Zero\")\n",
    "    else:\n",
    "        print(\"Número positivo\")\n",
    "else:\n",
    "    print(\"Número negativo\")"
   ]
  },
  {
   "cell_type": "code",
   "execution_count": 14,
   "metadata": {},
   "outputs": [
    {
     "name": "stdout",
     "output_type": "stream",
     "text": [
      "Digite a categoria do produto: 1\n",
      "O preço do produto é: R$ 10.00\n"
     ]
    }
   ],
   "source": [
    "# Categoria x Preço usando o elif\n",
    "cat = int(input(\"Digite a categoria do produto: \"))\n",
    "if cat == 1:\n",
    "    preco = 10\n",
    "elif cat == 2:\n",
    "    preco = 18\n",
    "elif cat == 3:\n",
    "    preco = 23\n",
    "elif cat == 4:\n",
    "    preco = 26\n",
    "elif cat == 5:\n",
    "    preco = 31\n",
    "else:\n",
    "    print('Categoria inválida, digite uma valor de 1 a 5')\n",
    "    preco = 0\n",
    "    \n",
    "print(f\"O preço do produto é: R${preco:6.2f}\")"
   ]
  },
  {
   "cell_type": "markdown",
   "metadata": {},
   "source": [
    "## Repetições"
   ]
  },
  {
   "cell_type": "markdown",
   "metadata": {},
   "source": [
    "Repetições representam a base de vários programas. São utilizadas para executar a parte de um programa várias vezes. Por exemplo imprimir na tela a sequencia de números de 1 a 15."
   ]
  },
  {
   "cell_type": "code",
   "execution_count": 16,
   "metadata": {},
   "outputs": [
    {
     "name": "stdout",
     "output_type": "stream",
     "text": [
      "1\n",
      "2\n",
      "3\n",
      "4\n",
      "5\n",
      "6\n",
      "7\n",
      "8\n",
      "9\n",
      "10\n",
      "11\n",
      "12\n",
      "13\n",
      "14\n",
      "15\n"
     ]
    }
   ],
   "source": [
    "x = 1\n",
    "while x <= 15:\n",
    "    print(x)\n",
    "    x = x + 1"
   ]
  },
  {
   "cell_type": "code",
   "execution_count": 18,
   "metadata": {},
   "outputs": [
    {
     "name": "stdout",
     "output_type": "stream",
     "text": [
      "Dentro do while\n",
      "Dentro do while\n",
      "Dentro do while\n",
      "Dentro do while\n",
      "Dentro do else\n"
     ]
    }
   ],
   "source": [
    "#Exemplo para ilustrar\n",
    "contador = 0\n",
    "\n",
    "while contador < 4:\n",
    "    print(\"Dentro do while\")\n",
    "    contador = contador + 1\n",
    "else:\n",
    "    print(\"Dentro do else\")"
   ]
  },
  {
   "cell_type": "code",
   "execution_count": 25,
   "metadata": {},
   "outputs": [
    {
     "name": "stdout",
     "output_type": "stream",
     "text": [
      "Dentro do while\n",
      "Dentro do while\n",
      "Dentro do while\n",
      "Dentro do while\n",
      "Dentro do else\n"
     ]
    }
   ],
   "source": [
    "#Exemplo para ilustrar - maneira de simplicar o contador\n",
    "contador = 0\n",
    "\n",
    "while contador < 4:\n",
    "    print(\"Dentro do while\")\n",
    "    contador += 1\n",
    "else:\n",
    "    print(\"Dentro do else\")"
   ]
  },
  {
   "cell_type": "code",
   "execution_count": 17,
   "metadata": {},
   "outputs": [
    {
     "name": "stdout",
     "output_type": "stream",
     "text": [
      "Entre com um valor inteiro: 10\n",
      "o valor do fatorial de 10 é 3628800\n"
     ]
    }
   ],
   "source": [
    "# Calcula o fatorial de um número inteiro positivo\n",
    "\n",
    "n = int(input(\"Entre com um valor inteiro: \"))\n",
    "num = n\n",
    "result = 1\n",
    "\n",
    "if n < 0:\n",
    "    print(\"Não é possível calcular fatorial de números negativos\")\n",
    "elif n == 0:\n",
    "    print(\"O fatorial de 0 é 1\")\n",
    "else:\n",
    "    while n > 1:\n",
    "        result = result * n \n",
    "        n = n -1\n",
    "    print(\"o valor do fatorial de\", num, \"é\", result)"
   ]
  },
  {
   "cell_type": "markdown",
   "metadata": {},
   "source": []
  }
 ],
 "metadata": {
  "kernelspec": {
   "display_name": "Python 3",
   "language": "python",
   "name": "python3"
  },
  "language_info": {
   "codemirror_mode": {
    "name": "ipython",
    "version": 3
   },
   "file_extension": ".py",
   "mimetype": "text/x-python",
   "name": "python",
   "nbconvert_exporter": "python",
   "pygments_lexer": "ipython3",
   "version": "3.6.8"
  }
 },
 "nbformat": 4,
 "nbformat_minor": 2
}
